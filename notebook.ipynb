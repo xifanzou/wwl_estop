{
 "cells": [
  {
   "cell_type": "code",
   "execution_count": 1,
   "metadata": {},
   "outputs": [
    {
     "name": "stdout",
     "output_type": "stream",
     "text": [
      "Now processing: IGV0429-0501-现代斯德哥尔摩_003.csv\n",
      "File exported to: c:\\Users\\westwell\\Documents\\.WorkDocuments\\github\\wwl_estop\\data\\export\\IGV0429-0501-现代斯德哥尔摩_003.csv\n",
      "\n",
      "Now processing: IGVData-W17.csv\n",
      "File exported to: c:\\Users\\westwell\\Documents\\.WorkDocuments\\github\\wwl_estop\\data\\export\\IGVData-W17.csv\n",
      "\n",
      "Now processing: IGVData-W18.csv\n",
      "File exported to: c:\\Users\\westwell\\Documents\\.WorkDocuments\\github\\wwl_estop\\data\\export\\IGVData-W18.csv\n",
      "\n"
     ]
    }
   ],
   "source": [
    "from modules.process import run\n",
    "\n",
    "run()"
   ]
  },
  {
   "cell_type": "code",
   "execution_count": null,
   "metadata": {},
   "outputs": [],
   "source": []
  }
 ],
 "metadata": {
  "kernelspec": {
   "display_name": "base",
   "language": "python",
   "name": "python3"
  },
  "language_info": {
   "codemirror_mode": {
    "name": "ipython",
    "version": 3
   },
   "file_extension": ".py",
   "mimetype": "text/x-python",
   "name": "python",
   "nbconvert_exporter": "python",
   "pygments_lexer": "ipython3",
   "version": "3.11.5"
  }
 },
 "nbformat": 4,
 "nbformat_minor": 2
}
